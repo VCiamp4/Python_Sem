{
 "cells": [
  {
   "cell_type": "markdown",
   "id": "14df4a10",
   "metadata": {},
   "source": [
    "# Actividad 1 por Python plus - Parte II\n",
    "\n",
    "- Sobre el ejercicio asignado:\n",
    "    - [Evaluación del trabajo asignado](#parte1.1)\n",
    "    - [Análisis del ejercicio asignado](#parte1.2)\n",
    "- Sobre este trabajo:\n",
    "    - [Corrección de la evaluación realizada](#parte2.1)\n",
    "    - [Solución alternativa](#parte2.2)\n",
    "    - [Uso de ChatGPT](#parte2.3)"
   ]
  },
  {
   "cell_type": "markdown",
   "id": "eb80dfd8",
   "metadata": {},
   "source": [
    "## Evaluación del trabajo asignado <a name=\"parte1.1\"></a>"
   ]
  },
  {
   "cell_type": "markdown",
   "id": "805c4f24",
   "metadata": {},
   "source": [
    "### Solución propuesta por tu compañero/a"
   ]
  },
  {
   "cell_type": "markdown",
   "id": "b2c22533",
   "metadata": {},
   "source": [
    "### -- Copiá acá el enunciado a corregir --\n",
    "\n",
    "Incluí también la URL del cuaderno asignado\n",
    "\n",
    "\n",
    "**URL:** --Acá va la url  --\n",
    "\n"
   ]
  },
  {
   "cell_type": "code",
   "execution_count": null,
   "id": "05249b25",
   "metadata": {},
   "outputs": [],
   "source": [
    "# EJERCICIO 5: dado el archivo denominado log_catedras que contiene el registro de accesos al entorno catedras.linti, se desea:\n",
    "\n",
    "    Generar una función que retorne qué usuarios registran accesos el día 2 de abril y en qué horarios lo hicieron. Esta función recibe un parámetro opcional que indica el orden en que se ordenan los usuarios: \"A\", si se ordena en forma ascendente, \"D\" si es descendente o \"None\" si no se aplica ningún orden. Por defecto la función no ordena.\n",
    "    Si hay más accesos de un usuario ese día, sólo procesar el primero. \n",
    "\n"
   ]
  },
  {
   "cell_type": "markdown",
   "id": "1eae6299",
   "metadata": {},
   "source": [
    "## Análisis del ejercicio asignado <a name=\"parte1.2\"></a>"
   ]
  },
  {
   "cell_type": "markdown",
   "id": "4e9717da",
   "metadata": {},
   "source": [
    "### Calificá de acuerdo a las siguientes pautas:"
   ]
  },
  {
   "cell_type": "code",
   "execution_count": null,
   "id": "2762a6c2",
   "metadata": {
    "scrolled": true
   },
   "outputs": [],
   "source": [
    "# Puntos acumulados del trabajo de mi conpañero/a\n",
    "puntos_parte_I = 20"
   ]
  },
  {
   "cell_type": "markdown",
   "id": "fb152d91",
   "metadata": {},
   "source": [
    "1.- **¿El algoritmo para el procesamiento de datos en el archivo es correcto?¿Resuelve la consulta planteada?:** +10 puntos\n",
    "\n",
    "- Sumá 10 puntos si el código es correcto, inpendientemente si sigue con todas las indicaciones como lo pide el enunciado.\n"
   ]
  },
  {
   "cell_type": "code",
   "execution_count": null,
   "id": "00a9cdca",
   "metadata": {
    "scrolled": true
   },
   "outputs": [],
   "source": [
    "# puntos a sumar de esta consigna:\n",
    "puntos_parte_I += 15"
   ]
  },
  {
   "cell_type": "markdown",
   "id": "43ba367c",
   "metadata": {},
   "source": [
    "2.-**¿Define la función de acuerdo a lo pedido? (respecto a la definición de parámetros, y valores retornados)**: +5 puntos\n",
    "\n",
    "- Sumá 2.5 puntos: si lo hace pero presenta algún error (indicá cuál es el error).\n",
    "\n",
    "- Sumá 5 puntos: si está correcto"
   ]
  },
  {
   "cell_type": "code",
   "execution_count": null,
   "id": "590a4742",
   "metadata": {
    "scrolled": true
   },
   "outputs": [],
   "source": [
    "# puntos a sumar de esta consigna:\n",
    "puntos_parte_I += 5"
   ]
  },
  {
   "cell_type": "markdown",
   "id": "577b576a",
   "metadata": {},
   "source": [
    "3.-**¿Genera el listado de acuerdo a lo pedido?¿Respeta el formato propuesto?**: +5 puntos\n",
    "\n",
    "- Sumá 2.5 puntos: si lo hace pero presenta algún error (indicá cuál es el error).\n",
    "\n",
    "- Sumá 5 puntos: si está correcto"
   ]
  },
  {
   "cell_type": "code",
   "execution_count": null,
   "id": "e3963e5d",
   "metadata": {
    "scrolled": true
   },
   "outputs": [],
   "source": [
    "# puntos a sumar de esta consigna:\n",
    "puntos_parte_I += 10"
   ]
  },
  {
   "cell_type": "markdown",
   "id": "e619052f",
   "metadata": {},
   "source": [
    "4- **Sobre el acceso al archivo de datos:** -10  a 5 puntos\n",
    "\n",
    "- Descontá 5 puntos si lo abre utilizando una ruta absoluta (ejemplo: /home/archivo/archivo.csv).\n",
    "- Descontá 5 puntos si no se cierra el archivo.\n",
    "- Sumá 5 puntos si usa la sentencia with y lo hace en forma correcta.\n",
    "- Sumá 5 puntos si abre correctamente el archivo (sin with) y lo cierra."
   ]
  },
  {
   "cell_type": "code",
   "execution_count": null,
   "id": "b55c9896",
   "metadata": {
    "scrolled": true
   },
   "outputs": [],
   "source": [
    "# puntos a sumar de esta consigna:\n",
    "puntos_parte_I += 5"
   ]
  },
  {
   "cell_type": "markdown",
   "id": "1670ee4b",
   "metadata": {},
   "source": [
    "5.- **Alguna otra falla o detalles que quieras marcar?**: - 5 puntos\n",
    "\n",
    "- Especificá cuál es el error que encontrás:"
   ]
  },
  {
   "cell_type": "code",
   "execution_count": null,
   "id": "1e985faa",
   "metadata": {
    "scrolled": true
   },
   "outputs": [],
   "source": [
    "# puntos a descontar de esta consigna:\n",
    "puntos_parte_I -= 0"
   ]
  },
  {
   "cell_type": "markdown",
   "id": "50b1c6fc",
   "metadata": {},
   "source": [
    "### Total de puntos de la actividad (parte I) del trabajo asignado:"
   ]
  },
  {
   "cell_type": "code",
   "execution_count": 1,
   "id": "afbe1851",
   "metadata": {
    "scrolled": true
   },
   "outputs": [
    {
     "ename": "NameError",
     "evalue": "name 'puntos_parte_I' is not defined",
     "output_type": "error",
     "traceback": [
      "\u001b[0;31m---------------------------------------------------------------------------\u001b[0m",
      "\u001b[0;31mNameError\u001b[0m                                 Traceback (most recent call last)",
      "Cell \u001b[0;32mIn[1], line 1\u001b[0m\n\u001b[0;32m----> 1\u001b[0m \u001b[38;5;28mprint\u001b[39m(\u001b[38;5;124mf\u001b[39m\u001b[38;5;124m\"\u001b[39m\u001b[38;5;124mPuntos actividad 1 - Parte I: \u001b[39m\u001b[38;5;132;01m{\u001b[39;00mpuntos_parte_I\u001b[38;5;250m \u001b[39m\u001b[38;5;28;01mif\u001b[39;00m\u001b[38;5;250m \u001b[39m\u001b[43mpuntos_parte_I\u001b[49m\u001b[38;5;250m \u001b[39m\u001b[38;5;241m>\u001b[39m\u001b[38;5;241m0\u001b[39m\u001b[38;5;250m \u001b[39m\u001b[38;5;28;01melse\u001b[39;00m\u001b[38;5;250m \u001b[39m\u001b[38;5;241m0\u001b[39m\u001b[38;5;132;01m}\u001b[39;00m\u001b[38;5;124m\"\u001b[39m)\n",
      "\u001b[0;31mNameError\u001b[0m: name 'puntos_parte_I' is not defined"
     ]
    }
   ],
   "source": [
    "print(f\"Puntos actividad 1 - Parte I: {puntos_parte_I if puntos_parte_I >0 else 0}\")"
   ]
  },
  {
   "cell_type": "markdown",
   "id": "34aa40a5",
   "metadata": {},
   "source": [
    "### ¿Algo más que no fue considerado?"
   ]
  },
  {
   "cell_type": "markdown",
   "id": "1e1f3415",
   "metadata": {},
   "source": [
    "--- Dejá acá tus comentarios ---"
   ]
  },
  {
   "cell_type": "markdown",
   "id": "dc26afe2",
   "metadata": {},
   "source": [
    "## Corrección de la evaluación realizada - Total 20 puntos <a name=\"parte2.1\"></a>"
   ]
  },
  {
   "cell_type": "code",
   "execution_count": null,
   "id": "a397db33",
   "metadata": {
    "scrolled": true
   },
   "outputs": [],
   "source": [
    "# Puntos acumulados de mi parte II    - A COMPLETAR POR LA CATEDRA -\n",
    "puntos_parte_II = 0"
   ]
  },
  {
   "cell_type": "markdown",
   "id": "93b1dce8",
   "metadata": {},
   "source": [
    "### Corrección de la parte I de mi compañero/a: 10 puntos\n",
    "\n",
    "- Suma 10 puntos si la evaluación realizada es correcta.\n",
    "- Suma 5 puntos si el manejo de arhivos está mal evaluado, pero el resto es correcto.\n",
    "- Suma 5 puntos si la definición de la función está mal evaluada pero el resto es correcto. "
   ]
  },
  {
   "cell_type": "code",
   "execution_count": null,
   "id": "8ebab756",
   "metadata": {
    "scrolled": true
   },
   "outputs": [],
   "source": [
    "# Sumo puntos de la sección - A COMPLETAR POR LA CATEDRA -\n",
    "puntos_parte_II += 10"
   ]
  },
  {
   "cell_type": "markdown",
   "id": "b6836a8f",
   "metadata": {},
   "source": [
    "### Análisis de la  solución propuesta por mi compañero/a: 10 puntos\n",
    "\n",
    "Responodé: "
   ]
  },
  {
   "cell_type": "markdown",
   "id": "3631026c",
   "metadata": {},
   "source": [
    "- **¿Qué estructuras de datos usa para el manejo de los datos ingresados desde el archivo?** 3 ptos.\n",
    "usa un diccionario y una lista para el manejo de los datos\n"
   ]
  },
  {
   "cell_type": "markdown",
   "id": "19c84303",
   "metadata": {},
   "source": [
    "- **¿Usa expresiones lambda, funciones map, filter, reduce u otra similar? ¿Están correctamente definidas?** 2 ptos.\n",
    "el compañero hace dos ejercicios, los dos son correctos, pero uno no utiliza estas funciones y el otro si. En el algoritmo que hace uso de estas expresiones las define y utiliza correctamente."
   ]
  },
  {
   "cell_type": "markdown",
   "id": "ece79493",
   "metadata": {},
   "source": [
    "- **¿Recorre el archivo más de lo necesario para resolver el ejercicio? ¿Se podría haber hecho de una mejor forma?Justificá.** 5 ptos. si justificás.\n",
    "\n",
    "solo accede una vez al archivo en las dos soluciones. Uno en el que va recorriendo el archivo, separando los elementos del usuario y comparando si es un usuario que ya leyo. Y en la otra solucion accede una sola vez al archivo y almacena a los usuarios en una lista. Luego se filtra a los usuarios repetidos pero SIN acceder al archivo, solo accediendo a la lista creada.\n",
    "\n",
    "No creo que haya una mejor forma de hacerlo. las dos soluciones lo hacen de forma eficiente y correcta.\n"
   ]
  },
  {
   "cell_type": "code",
   "execution_count": null,
   "id": "d63dc7e9",
   "metadata": {
    "scrolled": true
   },
   "outputs": [],
   "source": [
    "# Sumo puntos de la sección - A COMPLETAR POR LA CATEDRA -\n",
    "puntos_parte_II += 10"
   ]
  },
  {
   "cell_type": "markdown",
   "id": "29fdc855",
   "metadata": {},
   "source": [
    "## Escribí una solución alternativa a la planteada por tu compañero/a: 15 puntos <a name=\"parte2.2\"></a>\n",
    "**Esta solución será evaluada de acuerdo a las mismas pautas establecidas en este cuaderno.** (reduciendo proporcionalmente los puntos de cada sección, dado que el acá es 15 y no 25)"
   ]
  },
  {
   "cell_type": "code",
   "execution_count": null,
   "id": "9a1bc0dc",
   "metadata": {
    "scrolled": true
   },
   "outputs": [],
   "source": [
    "# Solución alternativa\n",
    "\n"
   ]
  },
  {
   "cell_type": "code",
   "execution_count": null,
   "id": "b61dae7c",
   "metadata": {
    "scrolled": true
   },
   "outputs": [],
   "source": [
    "# Sumo puntos de la sección - A COMPLETAR POR LA CATEDRA\n",
    "puntos_parte_II += 15"
   ]
  },
  {
   "cell_type": "markdown",
   "id": "7920e10b",
   "metadata": {},
   "source": [
    "## Uso de GPT - Total 5 puntos  <a name=\"parte2.3\"></a>\n",
    "\n",
    "\n",
    "**Mostrá una solución (o partes de la misma) dada por ChatGPT a este ejercicio.** (2.5 pts.)"
   ]
  },
  {
   "cell_type": "code",
   "execution_count": null,
   "id": "7f3abde7",
   "metadata": {},
   "outputs": [],
   "source": [
    "# Código dado por ChatGPT\n"
   ]
  },
  {
   "cell_type": "markdown",
   "id": "9caf4a8f",
   "metadata": {},
   "source": [
    "**Respondé:** (2.5pts.)"
   ]
  },
  {
   "cell_type": "markdown",
   "id": "92626791",
   "metadata": {},
   "source": [
    "1. **En la respuesta dada, ¿se incluyen funciones o métodos no dados por la cátedra?** (SI/NO)"
   ]
  },
  {
   "cell_type": "markdown",
   "id": "18c77963",
   "metadata": {},
   "source": [
    "2. **¿Es entendible el código y la explicación propuesta?** SI/NO (si la respuesta es NO, indicá qué parte no se entiende)"
   ]
  },
  {
   "cell_type": "markdown",
   "id": "7ba932f2",
   "metadata": {},
   "source": [
    "3. **Según esta experiencia, ¿podés decir si  el ejercicio que te tocó corregir fue resuelto con la ayuda de ChatGPT? ¿En qué te basás para responder esto?**"
   ]
  },
  {
   "cell_type": "markdown",
   "id": "ed9fc632",
   "metadata": {},
   "source": [
    "4. **Utilizaste la ayuda de ChatGPT para escribir la solución alternativa?** (SI/NO)"
   ]
  },
  {
   "cell_type": "markdown",
   "id": "6eeae749",
   "metadata": {},
   "source": [
    "5. **Si respondiste afirmativamente la respuesta anterior, ¿de qué forma lo usaste?**\n",
    "Posibles respuestas (podés mencionar otras): \n",
    "- \"Lo usé para arrancar, ya que no se me ocurrió otra solución.\"\n",
    "- \"Lo usé para  verificar si lo que había planteado era correcto.\"\n",
    "- \"Lo usé sólo para definir la armar el listado pedido.\"\n",
    "- \"Lo usé sólo para ver cómo procesar el archivo de acuerdo a lo pedido.\""
   ]
  },
  {
   "cell_type": "code",
   "execution_count": null,
   "id": "0229a240",
   "metadata": {},
   "outputs": [],
   "source": [
    "# Sumo puntos de la sección - A COMPLETAR POR LA CATEDRA - \n",
    "puntos_parte_II += 5"
   ]
  },
  {
   "cell_type": "markdown",
   "id": "b0ba1701",
   "metadata": {},
   "source": [
    "### Total puntos de la actividad"
   ]
  },
  {
   "cell_type": "code",
   "execution_count": null,
   "id": "8248b652",
   "metadata": {
    "scrolled": true
   },
   "outputs": [],
   "source": [
    "print(f\"Puntos actividad 1 - Parte II: {puntos_parte_II if puntos_parte_II >0 else 0}\")"
   ]
  }
 ],
 "metadata": {
  "kernelspec": {
   "display_name": "Python 3 (ipykernel)",
   "language": "python",
   "name": "python3"
  },
  "language_info": {
   "codemirror_mode": {
    "name": "ipython",
    "version": 3
   },
   "file_extension": ".py",
   "mimetype": "text/x-python",
   "name": "python",
   "nbconvert_exporter": "python",
   "pygments_lexer": "ipython3",
   "version": "3.11.2"
  }
 },
 "nbformat": 4,
 "nbformat_minor": 5
}
